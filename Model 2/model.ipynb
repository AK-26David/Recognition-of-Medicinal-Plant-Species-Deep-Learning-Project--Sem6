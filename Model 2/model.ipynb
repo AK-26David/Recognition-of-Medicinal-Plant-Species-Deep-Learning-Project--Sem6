{
 "cells": [
  {
   "cell_type": "code",
   "execution_count": 1,
   "metadata": {},
   "outputs": [
    {
     "name": "stdout",
     "output_type": "stream",
     "text": [
      "torch.Size([32, 30])\n"
     ]
    }
   ],
   "source": [
    "import torch\n",
    "import torch.nn as nn\n",
    "import torch.nn.functional as F\n",
    "from torch.utils.data import DataLoader\n",
    "from torchvision import datasets, transforms\n",
    "\n",
    "\n",
    "class MultiScaleCNN(nn.Module):\n",
    "    def __init__(self, num_classes, dropout_prob=0.3):\n",
    "        super(MultiScaleCNN, self).__init__()\n",
    "        \n",
    "        # Convolutional Blocks\n",
    "        self.conv1 = self._conv_block(3, 32)\n",
    "        self.conv2 = self._conv_block(32, 64)\n",
    "        self.conv3 = self._conv_block(64, 128)\n",
    "        self.conv4 = self._conv_block(128, 256)\n",
    "        self.conv5 = self._conv_block(256, 512)\n",
    "        \n",
    "        # Adaptive Pooling to ensure fixed-size feature maps\n",
    "        self.global_pool = nn.AdaptiveAvgPool2d((1, 1))\n",
    "        \n",
    "        # Fully Connected Layer with Multi-Scale Feature Fusion\n",
    "        self.fc = nn.Linear(32 + 64 + 128 + 256 + 512, num_classes)\n",
    "        \n",
    "        # Dropout for regularization\n",
    "        self.dropout = nn.Dropout(dropout_prob)\n",
    "    \n",
    "    def _conv_block(self, in_channels, out_channels):\n",
    "        return nn.Sequential(\n",
    "            nn.Conv2d(in_channels, out_channels, kernel_size=3, padding=1, stride=1),\n",
    "            nn.BatchNorm2d(out_channels),\n",
    "            nn.ReLU(),\n",
    "            nn.Conv2d(out_channels, out_channels, kernel_size=3, padding=1, stride=1),\n",
    "            nn.BatchNorm2d(out_channels),\n",
    "            nn.ReLU(),\n",
    "            nn.MaxPool2d(2, 2)  # Reduce spatial dimensions\n",
    "        )\n",
    "    \n",
    "    def forward(self, x):\n",
    "        # Feature Extraction\n",
    "        x1 = self.conv1(x)  # (B, 32, H/2, W/2)\n",
    "        x2 = self.conv2(x1) # (B, 64, H/4, W/4)\n",
    "        x3 = self.conv3(x2) # (B, 128, H/8, W/8)\n",
    "        x4 = self.conv4(x3) # (B, 256, H/16, W/16)\n",
    "        x5 = self.conv5(x4) # (B, 512, H/32, W/32)\n",
    "        \n",
    "        # Global Pooling for Multi-Scale Feature Fusion\n",
    "        x1_pool = self.global_pool(x1).view(x.size(0), -1)\n",
    "        x2_pool = self.global_pool(x2).view(x.size(0), -1)\n",
    "        x3_pool = self.global_pool(x3).view(x.size(0), -1)\n",
    "        x4_pool = self.global_pool(x4).view(x.size(0), -1)\n",
    "        x5_pool = self.global_pool(x5).view(x.size(0), -1)\n",
    "        \n",
    "        # Concatenate Multi-Scale Features\n",
    "        x_fused = torch.cat([x1_pool, x2_pool, x3_pool, x4_pool, x5_pool], dim=1)\n",
    "        x_fused = self.dropout(x_fused)\n",
    "        \n",
    "        # Classification Layer\n",
    "        out = self.fc(x_fused)\n",
    "        return out\n",
    "\n",
    "# Data Preparation\n",
    "transform = transforms.Compose([\n",
    "    transforms.Resize((224, 224)),\n",
    "    transforms.ToTensor(),\n",
    "    transforms.Normalize(mean=[0.485, 0.456, 0.406], std=[0.229, 0.224, 0.225])\n",
    "])\n",
    "\n",
    "dataset = datasets.ImageFolder(root='/Users/arnavkarnik/Documents/Recognition-of-Medicinal-Plant-Species-Deep-Learning-Project--Sem6/Medicinal Leaf Dataset/Segmented Medicinal Leaf Images/', transform=transform)\n",
    "dataloader = DataLoader(dataset, batch_size=32, shuffle=True)\n",
    "\n",
    "# Example Usage\n",
    "if __name__ == \"__main__\":\n",
    "    num_classes = len(dataset.classes)  # Dynamically determine number of species\n",
    "    model = MultiScaleCNN(num_classes=num_classes)\n",
    "    sample_input, _ = next(iter(dataloader))  # Get a batch of images\n",
    "    output = model(sample_input)\n",
    "    print(output.shape)  # Expected output shape: (batch_size, num_classes)\n"
   ]
  },
  {
   "cell_type": "code",
   "execution_count": 2,
   "metadata": {},
   "outputs": [
    {
     "name": "stderr",
     "output_type": "stream",
     "text": [
      "Epoch 1/20: 100%|██████████| 46/46 [02:55<00:00,  3.82s/it, acc=13.1, loss=2.64]\n"
     ]
    },
    {
     "name": "stdout",
     "output_type": "stream",
     "text": [
      "Epoch [1/20] | Train Loss: 3.0523, Train Acc: 13.08% | Val Loss: 5.3954, Val Acc: 6.81%\n",
      "✅ Best model saved with val acc: 6.81%\n"
     ]
    },
    {
     "name": "stderr",
     "output_type": "stream",
     "text": [
      "Epoch 2/20: 100%|██████████| 46/46 [03:01<00:00,  3.95s/it, acc=20.7, loss=2.59]\n"
     ]
    },
    {
     "name": "stdout",
     "output_type": "stream",
     "text": [
      "Epoch [2/20] | Train Loss: 2.6126, Train Acc: 20.71% | Val Loss: 2.7117, Val Acc: 19.35%\n",
      "✅ Best model saved with val acc: 19.35%\n"
     ]
    },
    {
     "name": "stderr",
     "output_type": "stream",
     "text": [
      "Epoch 3/20: 100%|██████████| 46/46 [03:12<00:00,  4.19s/it, acc=29.8, loss=2.41]\n"
     ]
    },
    {
     "name": "stdout",
     "output_type": "stream",
     "text": [
      "Epoch [3/20] | Train Loss: 2.3196, Train Acc: 29.84% | Val Loss: 2.5826, Val Acc: 29.43%\n",
      "✅ Best model saved with val acc: 29.43%\n"
     ]
    },
    {
     "name": "stderr",
     "output_type": "stream",
     "text": [
      "Epoch 4/20: 100%|██████████| 46/46 [03:15<00:00,  4.26s/it, acc=34.8, loss=2.52]\n"
     ]
    },
    {
     "name": "stdout",
     "output_type": "stream",
     "text": [
      "Epoch [4/20] | Train Loss: 2.1308, Train Acc: 34.81% | Val Loss: 2.2987, Val Acc: 28.61%\n"
     ]
    },
    {
     "name": "stderr",
     "output_type": "stream",
     "text": [
      "Epoch 5/20: 100%|██████████| 46/46 [03:18<00:00,  4.30s/it, acc=41.3, loss=1.8] \n"
     ]
    },
    {
     "name": "stdout",
     "output_type": "stream",
     "text": [
      "Epoch [5/20] | Train Loss: 1.9495, Train Acc: 41.35% | Val Loss: 2.3369, Val Acc: 28.61%\n"
     ]
    },
    {
     "name": "stderr",
     "output_type": "stream",
     "text": [
      "Epoch 6/20: 100%|██████████| 46/46 [03:20<00:00,  4.35s/it, acc=43.5, loss=1.87]\n"
     ]
    },
    {
     "name": "stdout",
     "output_type": "stream",
     "text": [
      "Epoch [6/20] | Train Loss: 1.8516, Train Acc: 43.53% | Val Loss: 1.8082, Val Acc: 43.60%\n",
      "✅ Best model saved with val acc: 43.60%\n"
     ]
    },
    {
     "name": "stderr",
     "output_type": "stream",
     "text": [
      "Epoch 7/20: 100%|██████████| 46/46 [03:21<00:00,  4.38s/it, acc=45.8, loss=1.75]\n"
     ]
    },
    {
     "name": "stdout",
     "output_type": "stream",
     "text": [
      "Epoch [7/20] | Train Loss: 1.7385, Train Acc: 45.84% | Val Loss: 1.7214, Val Acc: 45.50%\n",
      "✅ Best model saved with val acc: 45.50%\n"
     ]
    },
    {
     "name": "stderr",
     "output_type": "stream",
     "text": [
      "Epoch 8/20: 100%|██████████| 46/46 [03:20<00:00,  4.36s/it, acc=44.7, loss=1.61]\n"
     ]
    },
    {
     "name": "stdout",
     "output_type": "stream",
     "text": [
      "Epoch [8/20] | Train Loss: 1.7290, Train Acc: 44.69% | Val Loss: 2.0691, Val Acc: 35.97%\n"
     ]
    },
    {
     "name": "stderr",
     "output_type": "stream",
     "text": [
      "Epoch 9/20: 100%|██████████| 46/46 [03:23<00:00,  4.43s/it, acc=51.5, loss=1.45]\n"
     ]
    },
    {
     "name": "stdout",
     "output_type": "stream",
     "text": [
      "Epoch [9/20] | Train Loss: 1.5766, Train Acc: 51.50% | Val Loss: 2.0577, Val Acc: 39.78%\n"
     ]
    },
    {
     "name": "stderr",
     "output_type": "stream",
     "text": [
      "Epoch 10/20: 100%|██████████| 46/46 [03:21<00:00,  4.38s/it, acc=50.6, loss=2.27]\n"
     ]
    },
    {
     "name": "stdout",
     "output_type": "stream",
     "text": [
      "Epoch [10/20] | Train Loss: 1.5422, Train Acc: 50.61% | Val Loss: 2.2008, Val Acc: 34.33%\n"
     ]
    },
    {
     "name": "stderr",
     "output_type": "stream",
     "text": [
      "Epoch 11/20: 100%|██████████| 46/46 [03:19<00:00,  4.33s/it, acc=55.3, loss=1.24] \n"
     ]
    },
    {
     "name": "stdout",
     "output_type": "stream",
     "text": [
      "Epoch [11/20] | Train Loss: 1.4299, Train Acc: 55.31% | Val Loss: 1.6308, Val Acc: 45.78%\n",
      "✅ Best model saved with val acc: 45.78%\n"
     ]
    },
    {
     "name": "stderr",
     "output_type": "stream",
     "text": [
      "Epoch 12/20: 100%|██████████| 46/46 [03:22<00:00,  4.41s/it, acc=58.2, loss=1.16] \n"
     ]
    },
    {
     "name": "stdout",
     "output_type": "stream",
     "text": [
      "Epoch [12/20] | Train Loss: 1.3618, Train Acc: 58.17% | Val Loss: 1.3635, Val Acc: 55.86%\n",
      "✅ Best model saved with val acc: 55.86%\n"
     ]
    },
    {
     "name": "stderr",
     "output_type": "stream",
     "text": [
      "Epoch 13/20: 100%|██████████| 46/46 [03:24<00:00,  4.45s/it, acc=61.8, loss=1.19] \n"
     ]
    },
    {
     "name": "stdout",
     "output_type": "stream",
     "text": [
      "Epoch [13/20] | Train Loss: 1.1862, Train Acc: 61.78% | Val Loss: 1.1956, Val Acc: 60.76%\n",
      "✅ Best model saved with val acc: 60.76%\n"
     ]
    },
    {
     "name": "stderr",
     "output_type": "stream",
     "text": [
      "Epoch 14/20: 100%|██████████| 46/46 [03:08<00:00,  4.10s/it, acc=64.8, loss=1.36] \n"
     ]
    },
    {
     "name": "stdout",
     "output_type": "stream",
     "text": [
      "Epoch [14/20] | Train Loss: 1.1099, Train Acc: 64.78% | Val Loss: 1.0518, Val Acc: 68.94%\n",
      "✅ Best model saved with val acc: 68.94%\n"
     ]
    },
    {
     "name": "stderr",
     "output_type": "stream",
     "text": [
      "Epoch 15/20: 100%|██████████| 46/46 [03:15<00:00,  4.25s/it, acc=67.8, loss=0.773]\n"
     ]
    },
    {
     "name": "stdout",
     "output_type": "stream",
     "text": [
      "Epoch [15/20] | Train Loss: 1.0202, Train Acc: 67.78% | Val Loss: 1.5910, Val Acc: 53.41%\n"
     ]
    },
    {
     "name": "stderr",
     "output_type": "stream",
     "text": [
      "Epoch 16/20: 100%|██████████| 46/46 [03:24<00:00,  4.44s/it, acc=69.9, loss=1.32] \n"
     ]
    },
    {
     "name": "stdout",
     "output_type": "stream",
     "text": [
      "Epoch [16/20] | Train Loss: 0.9745, Train Acc: 69.89% | Val Loss: 0.9600, Val Acc: 66.49%\n"
     ]
    },
    {
     "name": "stderr",
     "output_type": "stream",
     "text": [
      "Epoch 17/20: 100%|██████████| 46/46 [03:24<00:00,  4.44s/it, acc=71.9, loss=0.642]\n"
     ]
    },
    {
     "name": "stdout",
     "output_type": "stream",
     "text": [
      "Epoch [17/20] | Train Loss: 0.8824, Train Acc: 71.87% | Val Loss: 1.2272, Val Acc: 61.04%\n"
     ]
    },
    {
     "name": "stderr",
     "output_type": "stream",
     "text": [
      "Epoch 18/20: 100%|██████████| 46/46 [03:22<00:00,  4.40s/it, acc=73.9, loss=0.819]\n"
     ]
    },
    {
     "name": "stdout",
     "output_type": "stream",
     "text": [
      "Epoch [18/20] | Train Loss: 0.8239, Train Acc: 73.91% | Val Loss: 0.8039, Val Acc: 74.93%\n",
      "✅ Best model saved with val acc: 74.93%\n"
     ]
    },
    {
     "name": "stderr",
     "output_type": "stream",
     "text": [
      "Epoch 19/20: 100%|██████████| 46/46 [03:24<00:00,  4.45s/it, acc=73.1, loss=0.521]\n"
     ]
    },
    {
     "name": "stdout",
     "output_type": "stream",
     "text": [
      "Epoch [19/20] | Train Loss: 0.8201, Train Acc: 73.09% | Val Loss: 0.8935, Val Acc: 70.30%\n"
     ]
    },
    {
     "name": "stderr",
     "output_type": "stream",
     "text": [
      "Epoch 20/20: 100%|██████████| 46/46 [03:24<00:00,  4.44s/it, acc=76.4, loss=0.416]\n"
     ]
    },
    {
     "name": "stdout",
     "output_type": "stream",
     "text": [
      "Epoch [20/20] | Train Loss: 0.7348, Train Acc: 76.36% | Val Loss: 1.3930, Val Acc: 55.31%\n",
      "🎉 Training Complete! Best model saved at: best_multiscale_cnn.pth\n",
      "✅ Best model loaded for final evaluation.\n"
     ]
    }
   ],
   "source": [
    "import os\n",
    "import torch\n",
    "import torch.nn as nn\n",
    "import torch.optim as optim\n",
    "import torch.nn.functional as F\n",
    "from torch.utils.data import DataLoader, random_split\n",
    "from torchvision import datasets, transforms\n",
    "from tqdm import tqdm\n",
    "\n",
    "# Set device (GPU if available)\n",
    "device = torch.device(\"cuda\" if torch.cuda.is_available() else \"cpu\")\n",
    "\n",
    "# Data Augmentation and Normalization\n",
    "transform = transforms.Compose([\n",
    "    transforms.Resize((224, 224)),\n",
    "    transforms.RandomHorizontalFlip(),\n",
    "    transforms.RandomRotation(20),\n",
    "    transforms.ColorJitter(brightness=0.2, contrast=0.2, saturation=0.2, hue=0.1),\n",
    "    transforms.ToTensor(),\n",
    "    transforms.Normalize(mean=[0.485, 0.456, 0.406], std=[0.229, 0.224, 0.225])\n",
    "])\n",
    "\n",
    "# Dataset and Dataloaders\n",
    "dataset_path = '/Users/arnavkarnik/Documents/Recognition-of-Medicinal-Plant-Species-Deep-Learning-Project--Sem6/Medicinal Leaf Dataset/Segmented Medicinal Leaf Images/'\n",
    "dataset = datasets.ImageFolder(root=dataset_path, transform=transform)\n",
    "\n",
    "# Split into train and validation sets (80-20 split)\n",
    "train_size = int(0.8 * len(dataset))\n",
    "val_size = len(dataset) - train_size\n",
    "train_dataset, val_dataset = random_split(dataset, [train_size, val_size])\n",
    "\n",
    "train_loader = DataLoader(train_dataset, batch_size=32, shuffle=True, num_workers=2)\n",
    "val_loader = DataLoader(val_dataset, batch_size=32, shuffle=False, num_workers=2)\n",
    "\n",
    "# Define Model\n",
    "class MultiScaleCNN(nn.Module):\n",
    "    def __init__(self, num_classes, dropout_prob=0.3):\n",
    "        super(MultiScaleCNN, self).__init__()\n",
    "        \n",
    "        # Convolutional Blocks\n",
    "        self.conv1 = self._conv_block(3, 32)\n",
    "        self.conv2 = self._conv_block(32, 64)\n",
    "        self.conv3 = self._conv_block(64, 128)\n",
    "        self.conv4 = self._conv_block(128, 256)\n",
    "        self.conv5 = self._conv_block(256, 512)\n",
    "        \n",
    "        # Adaptive Pooling to ensure fixed-size feature maps\n",
    "        self.global_pool = nn.AdaptiveAvgPool2d((1, 1))\n",
    "        \n",
    "        # Fully Connected Layer with Multi-Scale Feature Fusion\n",
    "        self.fc = nn.Linear(32 + 64 + 128 + 256 + 512, num_classes)\n",
    "        \n",
    "        # Dropout for regularization\n",
    "        self.dropout = nn.Dropout(dropout_prob)\n",
    "    \n",
    "    def _conv_block(self, in_channels, out_channels):\n",
    "        return nn.Sequential(\n",
    "            nn.Conv2d(in_channels, out_channels, kernel_size=3, padding=1, stride=1),\n",
    "            nn.BatchNorm2d(out_channels),\n",
    "            nn.ReLU(),\n",
    "            nn.Conv2d(out_channels, out_channels, kernel_size=3, padding=1, stride=1),\n",
    "            nn.BatchNorm2d(out_channels),\n",
    "            nn.ReLU(),\n",
    "            nn.MaxPool2d(2, 2)  # Reduce spatial dimensions\n",
    "        )\n",
    "    \n",
    "    def forward(self, x):\n",
    "        # Feature Extraction\n",
    "        x1 = self.conv1(x)  # (B, 32, H/2, W/2)\n",
    "        x2 = self.conv2(x1) # (B, 64, H/4, W/4)\n",
    "        x3 = self.conv3(x2) # (B, 128, H/8, W/8)\n",
    "        x4 = self.conv4(x3) # (B, 256, H/16, W/16)\n",
    "        x5 = self.conv5(x4) # (B, 512, H/32, W/32)\n",
    "        \n",
    "        # Global Pooling for Multi-Scale Feature Fusion\n",
    "        x1_pool = self.global_pool(x1).view(x.size(0), -1)\n",
    "        x2_pool = self.global_pool(x2).view(x.size(0), -1)\n",
    "        x3_pool = self.global_pool(x3).view(x.size(0), -1)\n",
    "        x4_pool = self.global_pool(x4).view(x.size(0), -1)\n",
    "        x5_pool = self.global_pool(x5).view(x.size(0), -1)\n",
    "        \n",
    "        # Concatenate Multi-Scale Features\n",
    "        x_fused = torch.cat([x1_pool, x2_pool, x3_pool, x4_pool, x5_pool], dim=1)\n",
    "        x_fused = self.dropout(x_fused)\n",
    "        \n",
    "        # Classification Layer\n",
    "        out = self.fc(x_fused)\n",
    "        return out\n",
    "\n",
    "# Initialize model, loss, optimizer\n",
    "num_classes = len(dataset.classes)\n",
    "model = MultiScaleCNN(num_classes=num_classes).to(device)\n",
    "criterion = nn.CrossEntropyLoss()\n",
    "optimizer = optim.Adam(model.parameters(), lr=0.001)\n",
    "\n",
    "# Training Loop\n",
    "num_epochs = 20\n",
    "best_val_acc = 0.0\n",
    "checkpoint_path = \"best_multiscale_cnn.pth\"\n",
    "\n",
    "for epoch in range(num_epochs):\n",
    "    model.train()\n",
    "    running_loss = 0.0\n",
    "    correct, total = 0, 0\n",
    "\n",
    "    loop = tqdm(train_loader, desc=f\"Epoch {epoch+1}/{num_epochs}\")\n",
    "    for images, labels in loop:\n",
    "        images, labels = images.to(device), labels.to(device)\n",
    "        \n",
    "        optimizer.zero_grad()\n",
    "        outputs = model(images)\n",
    "        loss = criterion(outputs, labels)\n",
    "        loss.backward()\n",
    "        optimizer.step()\n",
    "\n",
    "        running_loss += loss.item()\n",
    "        _, predicted = torch.max(outputs, 1)\n",
    "        total += labels.size(0)\n",
    "        correct += (predicted == labels).sum().item()\n",
    "        \n",
    "        loop.set_postfix(loss=loss.item(), acc=100 * correct / total)\n",
    "\n",
    "    train_acc = 100 * correct / total\n",
    "    avg_train_loss = running_loss / len(train_loader)\n",
    "\n",
    "    # Validation Loop\n",
    "    model.eval()\n",
    "    val_correct, val_total = 0, 0\n",
    "    val_loss = 0.0\n",
    "    with torch.no_grad():\n",
    "        for images, labels in val_loader:\n",
    "            images, labels = images.to(device), labels.to(device)\n",
    "            outputs = model(images)\n",
    "            loss = criterion(outputs, labels)\n",
    "            val_loss += loss.item()\n",
    "\n",
    "            _, predicted = torch.max(outputs, 1)\n",
    "            val_total += labels.size(0)\n",
    "            val_correct += (predicted == labels).sum().item()\n",
    "\n",
    "    val_acc = 100 * val_correct / val_total\n",
    "    avg_val_loss = val_loss / len(val_loader)\n",
    "\n",
    "    print(f\"Epoch [{epoch+1}/{num_epochs}] | \"\n",
    "          f\"Train Loss: {avg_train_loss:.4f}, Train Acc: {train_acc:.2f}% | \"\n",
    "          f\"Val Loss: {avg_val_loss:.4f}, Val Acc: {val_acc:.2f}%\")\n",
    "\n",
    "    # Save best model\n",
    "    if val_acc > best_val_acc:\n",
    "        best_val_acc = val_acc\n",
    "        torch.save(model.state_dict(), checkpoint_path)\n",
    "        print(f\"✅ Best model saved with val acc: {best_val_acc:.2f}%\")\n",
    "\n",
    "print(\"🎉 Training Complete! Best model saved at:\", checkpoint_path)\n",
    "\n",
    "# Load best model for evaluation\n",
    "model.load_state_dict(torch.load(checkpoint_path))\n",
    "model.eval()\n",
    "print(\"✅ Best model loaded for final evaluation.\")\n"
   ]
  }
 ],
 "metadata": {
  "kernelspec": {
   "display_name": "base",
   "language": "python",
   "name": "python3"
  },
  "language_info": {
   "codemirror_mode": {
    "name": "ipython",
    "version": 3
   },
   "file_extension": ".py",
   "mimetype": "text/x-python",
   "name": "python",
   "nbconvert_exporter": "python",
   "pygments_lexer": "ipython3",
   "version": "3.12.4"
  }
 },
 "nbformat": 4,
 "nbformat_minor": 2
}
